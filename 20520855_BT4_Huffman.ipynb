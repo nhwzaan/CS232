{
  "nbformat": 4,
  "nbformat_minor": 0,
  "metadata": {
    "colab": {
      "provenance": [],
      "toc_visible": true,
      "authorship_tag": "ABX9TyP3x5J1fS585A8+Xswp2p6s",
      "include_colab_link": true
    },
    "kernelspec": {
      "name": "python3",
      "display_name": "Python 3"
    },
    "language_info": {
      "name": "python"
    }
  },
  "cells": [
    {
      "cell_type": "markdown",
      "metadata": {
        "id": "view-in-github",
        "colab_type": "text"
      },
      "source": [
        "<a href=\"https://colab.research.google.com/github/nhwzaan/multimedia_computing/blob/main/20520855_BT4_Huffman.ipynb\" target=\"_parent\"><img src=\"https://colab.research.google.com/assets/colab-badge.svg\" alt=\"Open In Colab\"/></a>"
      ]
    },
    {
      "cell_type": "markdown",
      "source": [
        "# Thông tin sinh viên:\n",
        "- Họ và tên: Nguyễn Thị Như Vân\n",
        "- MSSV: 20520855\n",
        "- Ngày thực hiện: 21/03/2023"
      ],
      "metadata": {
        "id": "5pXHgC6PuCM5"
      }
    },
    {
      "cell_type": "markdown",
      "source": [
        "# Kết nối Google Drive"
      ],
      "metadata": {
        "id": "1f9L3apf2gM7"
      }
    },
    {
      "cell_type": "code",
      "execution_count": null,
      "metadata": {
        "colab": {
          "base_uri": "https://localhost:8080/"
        },
        "id": "_UrRgtC52DBp",
        "outputId": "d4cfe94e-61b7-4738-a21f-163623dcbbfc"
      },
      "outputs": [
        {
          "output_type": "stream",
          "name": "stdout",
          "text": [
            "Mounted at /gdrive\n"
          ]
        }
      ],
      "source": [
        "from google.colab import drive\n",
        "drive.mount('/gdrive')"
      ]
    },
    {
      "cell_type": "markdown",
      "source": [
        "# Import thư viện"
      ],
      "metadata": {
        "id": "ZLcqpzt52kwm"
      }
    },
    {
      "cell_type": "code",
      "source": [
        "import numpy as np\n",
        "import cv2 as cv\n",
        "from google.colab.patches import cv2_imshow\n",
        "import matplotlib.pyplot as plt\n",
        "plt.style.use(style='seaborn')\n",
        "import math\n",
        "import os\n",
        "import time"
      ],
      "metadata": {
        "colab": {
          "base_uri": "https://localhost:8080/"
        },
        "id": "71A4A7ok2kX4",
        "outputId": "dccd1faf-441f-4977-de84-0fee1745cf40"
      },
      "execution_count": null,
      "outputs": [
        {
          "output_type": "stream",
          "name": "stderr",
          "text": [
            "<ipython-input-2-d4bb29bb2738>:5: MatplotlibDeprecationWarning: The seaborn styles shipped by Matplotlib are deprecated since 3.6, as they no longer correspond to the styles shipped by seaborn. However, they will remain available as 'seaborn-v0_8-<style>'. Alternatively, directly use the seaborn API instead.\n",
            "  plt.style.use(style='seaborn')\n"
          ]
        }
      ]
    },
    {
      "cell_type": "code",
      "source": [
        "import pandas as pd\n",
        "\n",
        "%matplotlib inline"
      ],
      "metadata": {
        "id": "Smmgmz2P514x"
      },
      "execution_count": null,
      "outputs": []
    },
    {
      "cell_type": "markdown",
      "source": [
        "# String data"
      ],
      "metadata": {
        "id": "48FEe7l53K8c"
      }
    },
    {
      "cell_type": "markdown",
      "source": [
        "## Encoding"
      ],
      "metadata": {
        "id": "ljnaRj0H9c0T"
      }
    },
    {
      "cell_type": "code",
      "source": [
        "string = 'abadabaaaeacadbbd'"
      ],
      "metadata": {
        "id": "9fNIh0y24NmI"
      },
      "execution_count": null,
      "outputs": []
    },
    {
      "cell_type": "code",
      "source": [
        "class NodeTree(object):\n",
        "\n",
        "    def __init__(self, left=None, right=None):\n",
        "        self.left = left\n",
        "        self.right = right\n",
        "\n",
        "    def children(self):\n",
        "        return (self.left, self.right)\n",
        "\n",
        "    def nodes(self):\n",
        "        return (self.left, self.right)\n",
        "\n",
        "    def __str__(self):\n",
        "        return '%s_%s' % (self.left, self.right)"
      ],
      "metadata": {
        "id": "4JT3eHV43Mw6"
      },
      "execution_count": null,
      "outputs": []
    },
    {
      "cell_type": "code",
      "source": [
        "def huffman_code_tree(node, left=True, binString=''):\n",
        "    if type(node) is str:\n",
        "        return {node: binString}\n",
        "    (l, r) = node.children()\n",
        "    d = dict()\n",
        "    d.update(huffman_code_tree(l, True, binString + '0'))\n",
        "    d.update(huffman_code_tree(r, False, binString + '1'))\n",
        "    return d"
      ],
      "metadata": {
        "id": "NFWqeCMP4GBt"
      },
      "execution_count": null,
      "outputs": []
    },
    {
      "cell_type": "code",
      "source": [
        "freq = {}\n",
        "for c in string:\n",
        "    if c in freq:\n",
        "        freq[c] += 1\n",
        "    else:\n",
        "        freq[c] = 1\n",
        "\n",
        "freq = sorted(freq.items(), key=lambda x: x[1], reverse=True)"
      ],
      "metadata": {
        "id": "lHY8nnO-4MKK"
      },
      "execution_count": null,
      "outputs": []
    },
    {
      "cell_type": "code",
      "source": [
        "print(freq)"
      ],
      "metadata": {
        "colab": {
          "base_uri": "https://localhost:8080/"
        },
        "id": "gd1qpbTa4h3M",
        "outputId": "b96b132e-bcb4-485a-f36b-03eaa901482a"
      },
      "execution_count": null,
      "outputs": [
        {
          "output_type": "stream",
          "name": "stdout",
          "text": [
            "[('a', 8), ('b', 4), ('d', 3), ('e', 1), ('c', 1)]\n"
          ]
        }
      ]
    },
    {
      "cell_type": "code",
      "source": [
        "nodes = freq"
      ],
      "metadata": {
        "id": "Nbm21ion4XX7"
      },
      "execution_count": null,
      "outputs": []
    },
    {
      "cell_type": "code",
      "source": [
        "print(nodes)"
      ],
      "metadata": {
        "colab": {
          "base_uri": "https://localhost:8080/"
        },
        "id": "F4Qzaq0JDOgs",
        "outputId": "fc0d5326-cc86-454a-9d59-ef05cf4e573c"
      },
      "execution_count": null,
      "outputs": [
        {
          "output_type": "stream",
          "name": "stdout",
          "text": [
            "[('a', 8), ('b', 4), ('d', 3), ('e', 1), ('c', 1)]\n"
          ]
        }
      ]
    },
    {
      "cell_type": "code",
      "source": [
        "while len(nodes) > 1:\n",
        "    (key1, c1) = nodes[-1]\n",
        "    (key2, c2) = nodes[-2]\n",
        "    nodes = nodes[:-2]\n",
        "    node = NodeTree(key1, key2)\n",
        "    nodes.append((node, c1 + c2))\n",
        "\n",
        "    nodes = sorted(nodes, key=lambda x: x[1], reverse=True)\n",
        "\n",
        "huffmanCode = huffman_code_tree(nodes[0][0])\n",
        "\n",
        "#print(nodes[0][0])\n",
        "\n",
        "print(' Char | Huffman code ')\n",
        "print('----------------------')\n",
        "for (char, frequency) in freq:\n",
        "    print(' %-4r |%12s' % (char, huffmanCode[char]))"
      ],
      "metadata": {
        "colab": {
          "base_uri": "https://localhost:8080/"
        },
        "id": "Aire0FVu4ZzU",
        "outputId": "919da68b-6abc-47b9-8e24-3b4cb6f22360"
      },
      "execution_count": null,
      "outputs": [
        {
          "output_type": "stream",
          "name": "stdout",
          "text": [
            " Char | Huffman code \n",
            "----------------------\n",
            " 'a'  |           0\n",
            " 'b'  |          10\n",
            " 'd'  |         111\n",
            " 'e'  |        1101\n",
            " 'c'  |        1100\n"
          ]
        }
      ]
    },
    {
      "cell_type": "markdown",
      "source": [
        "# Text data"
      ],
      "metadata": {
        "id": "lw9TREf-5D9L"
      }
    },
    {
      "cell_type": "markdown",
      "source": [
        "## Based on character"
      ],
      "metadata": {
        "id": "8kX2G3EP8zJA"
      }
    },
    {
      "cell_type": "code",
      "source": [
        "%cd /gdrive/My Drive/Colab Notebooks/"
      ],
      "metadata": {
        "colab": {
          "base_uri": "https://localhost:8080/"
        },
        "id": "xTHpCUaf5sma",
        "outputId": "37d48748-f86c-4532-d448-886c21035c57"
      },
      "execution_count": null,
      "outputs": [
        {
          "output_type": "stream",
          "name": "stdout",
          "text": [
            "/gdrive/My Drive/Colab Notebooks\n"
          ]
        }
      ]
    },
    {
      "cell_type": "code",
      "source": [
        "df = pd.read_csv(\"corpus.txt\")"
      ],
      "metadata": {
        "id": "02wg24iF5_S3"
      },
      "execution_count": null,
      "outputs": []
    },
    {
      "cell_type": "code",
      "source": [
        "f = open(\"corpus.txt\",'r',encoding = 'utf-8')\n",
        "story = f.read()\n",
        "print(story)"
      ],
      "metadata": {
        "colab": {
          "base_uri": "https://localhost:8080/"
        },
        "id": "QcQkrAtw6GS3",
        "outputId": "ebacff14-014c-4e0d-e87e-6b652a4c856c"
      },
      "execution_count": null,
      "outputs": [
        {
          "output_type": "stream",
          "name": "stdout",
          "text": [
            "My name is Nguyen Thu Hoai. I am 22 years old and I am single. I live in Ho Chi Minh city and have just graduated from X university in August with the major in Accounting. I have got 3 months experience as an intern at A company. I like reading books and cooking. I am a careful and hard-working person. I am eager to learn new things and willing to work in team. I easily adapt to new working environment and take initiative in work.\n"
          ]
        }
      ]
    },
    {
      "cell_type": "code",
      "source": [
        "c_freq = {}\n",
        "for c in story:\n",
        "    if c in c_freq:\n",
        "        c_freq[c] += 1\n",
        "    else:\n",
        "        c_freq[c] = 1\n",
        "\n",
        "c_freq = sorted(c_freq.items(), key=lambda x: x[1], reverse=True)\n"
      ],
      "metadata": {
        "id": "5g4t37tX6fhH"
      },
      "execution_count": null,
      "outputs": []
    },
    {
      "cell_type": "code",
      "source": [
        "story = story.lower()\n",
        "print(story)"
      ],
      "metadata": {
        "colab": {
          "base_uri": "https://localhost:8080/"
        },
        "id": "QPrJatyA_vee",
        "outputId": "7785eda4-da3a-4cf9-fa1f-bd8ad6c4c9b8"
      },
      "execution_count": null,
      "outputs": [
        {
          "output_type": "stream",
          "name": "stdout",
          "text": [
            "my name is nguyen thu hoai. i am 22 years old and i am single. i live in ho chi minh city and have just graduated from x university in august with the major in accounting. i have got 3 months experience as an intern at a company. i like reading books and cooking. i am a careful and hard-working person. i am eager to learn new things and willing to work in team. i easily adapt to new working environment and take initiative in work.\n"
          ]
        }
      ]
    },
    {
      "cell_type": "code",
      "source": [
        "c_nodes = c_freq"
      ],
      "metadata": {
        "id": "hgC72ooh_KRz"
      },
      "execution_count": null,
      "outputs": []
    },
    {
      "cell_type": "code",
      "source": [
        "print(c_nodes)"
      ],
      "metadata": {
        "colab": {
          "base_uri": "https://localhost:8080/"
        },
        "id": "DeYfsZIjAqxG",
        "outputId": "884ef1af-cc91-4b4a-f580-8a1d392241bf"
      },
      "execution_count": null,
      "outputs": [
        {
          "output_type": "stream",
          "name": "stdout",
          "text": [
            "[(' ', 85), ('n', 38), ('a', 34), ('i', 32), ('e', 30), ('o', 22), ('t', 22), ('r', 18), ('g', 13), ('s', 12), ('d', 12), ('m', 11), ('h', 10), ('u', 9), ('l', 9), ('.', 8), ('I', 8), ('w', 8), ('k', 8), ('y', 7), ('c', 7), ('v', 6), ('p', 4), ('A', 3), ('M', 2), ('H', 2), ('2', 2), ('j', 2), ('f', 2), ('N', 1), ('T', 1), ('C', 1), ('X', 1), ('3', 1), ('x', 1), ('b', 1), ('-', 1)]\n"
          ]
        }
      ]
    },
    {
      "cell_type": "code",
      "source": [
        "while len(c_nodes) > 1:\n",
        "    (key1, c1) = c_nodes[-1]\n",
        "    (key2, c2) = c_nodes[-2]\n",
        "    c_nodes = c_nodes[:-2]\n",
        "    node = NodeTree(key1, key2)\n",
        "    c_nodes.append((node, c1 + c2))\n",
        "\n",
        "    c_nodes = sorted(c_nodes, key=lambda x: x[1], reverse=True)\n",
        "\n",
        "\n",
        "huffmanCode = huffman_code_tree(c_nodes[0][0])"
      ],
      "metadata": {
        "id": "IvujO2GaD2Cb"
      },
      "execution_count": null,
      "outputs": []
    },
    {
      "cell_type": "code",
      "source": [
        "print(c_nodes[0][0])"
      ],
      "metadata": {
        "colab": {
          "base_uri": "https://localhost:8080/"
        },
        "id": "U_sCD167Hycr",
        "outputId": "1fc58c03-398f-47d6-9826-e33b44d7eb61"
      },
      "execution_count": null,
      "outputs": [
        {
          "output_type": "stream",
          "name": "stdout",
          "text": [
            " _h_m_t_o_d_s_v_c_g_e_y_x_3_-_b_T_N_X_C_w_I_i_2_H_f_j_k_._p_M_A_a_l_u_r_n\n"
          ]
        }
      ]
    },
    {
      "cell_type": "code",
      "source": [
        "print(' Char | Huffman code ')\n",
        "print('----------------------')\n",
        "for (char, frequency) in c_freq:\n",
        "    print(' %-4r |%12s' % (char, huffmanCode[char]))"
      ],
      "metadata": {
        "colab": {
          "base_uri": "https://localhost:8080/"
        },
        "id": "T9eXFOjGEnrc",
        "outputId": "b73ad0b8-5e02-458e-b26f-5d781373af63"
      },
      "execution_count": null,
      "outputs": [
        {
          "output_type": "stream",
          "name": "stdout",
          "text": [
            " Char | Huffman code \n",
            "----------------------\n",
            " ' '  |          00\n",
            " 'n'  |        1111\n",
            " 'a'  |        1101\n",
            " 'i'  |        1011\n",
            " 'e'  |        1001\n",
            " 'o'  |        0110\n",
            " 't'  |        0101\n",
            " 'r'  |       11101\n",
            " 'g'  |       10001\n",
            " 's'  |       01111\n",
            " 'd'  |       01110\n",
            " 'm'  |       01001\n",
            " 'h'  |       01000\n",
            " 'u'  |      111001\n",
            " 'l'  |      111000\n",
            " '.'  |      110010\n",
            " 'I'  |      101011\n",
            " 'w'  |      101010\n",
            " 'k'  |      110001\n",
            " 'y'  |      101000\n",
            " 'c'  |      100001\n",
            " 'v'  |      100000\n",
            " 'p'  |     1100110\n",
            " 'A'  |    11001111\n",
            " 'M'  |    11001110\n",
            " 'H'  |    11000001\n",
            " '2'  |    11000000\n",
            " 'j'  |    11000011\n",
            " 'f'  |    11000010\n",
            " 'N'  |   101001101\n",
            " 'T'  |   101001100\n",
            " 'C'  |   101001111\n",
            " 'X'  |   101001110\n",
            " '3'  |   101001001\n",
            " 'x'  |   101001000\n",
            " 'b'  |   101001011\n",
            " '-'  |   101001010\n"
          ]
        }
      ]
    }
  ]
}